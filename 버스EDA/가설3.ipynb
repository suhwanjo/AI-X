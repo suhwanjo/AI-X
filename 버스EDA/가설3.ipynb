{
 "cells": [
  {
   "cell_type": "code",
   "execution_count": null,
   "id": "eef60005",
   "metadata": {},
   "outputs": [],
   "source": [
    "# 사무실 면적이 넓은 구의 버스 정류장/노선 수가 많을 것이다."
   ]
  },
  {
   "cell_type": "code",
   "execution_count": 1,
   "id": "2a7bb275",
   "metadata": {},
   "outputs": [],
   "source": [
    "import pandas as pd"
   ]
  },
  {
   "cell_type": "markdown",
   "id": "a0a5a16d",
   "metadata": {},
   "source": [
    "# 건축물총면적(사무실포함) 데이터 정리"
   ]
  },
  {
   "cell_type": "code",
   "execution_count": 2,
   "id": "7ad7e59f",
   "metadata": {},
   "outputs": [],
   "source": [
    "a=pd.read_csv('사무실면적.csv')"
   ]
  },
  {
   "cell_type": "code",
   "execution_count": 3,
   "id": "970ea78b",
   "metadata": {},
   "outputs": [
    {
     "data": {
      "text/html": [
       "<div>\n",
       "<style scoped>\n",
       "    .dataframe tbody tr th:only-of-type {\n",
       "        vertical-align: middle;\n",
       "    }\n",
       "\n",
       "    .dataframe tbody tr th {\n",
       "        vertical-align: top;\n",
       "    }\n",
       "\n",
       "    .dataframe thead th {\n",
       "        text-align: right;\n",
       "    }\n",
       "</style>\n",
       "<table border=\"1\" class=\"dataframe\">\n",
       "  <thead>\n",
       "    <tr style=\"text-align: right;\">\n",
       "      <th></th>\n",
       "      <th>자치구별(1)</th>\n",
       "      <th>자치구별(2)</th>\n",
       "      <th>2020</th>\n",
       "      <th>2020.1</th>\n",
       "      <th>2020.2</th>\n",
       "    </tr>\n",
       "  </thead>\n",
       "  <tbody>\n",
       "    <tr>\n",
       "      <th>0</th>\n",
       "      <td>자치구별(1)</td>\n",
       "      <td>자치구별(2)</td>\n",
       "      <td>건축물총면적 (㎡)</td>\n",
       "      <td>사무실면적 (㎡)</td>\n",
       "      <td>사무실면적구성비 (%)</td>\n",
       "    </tr>\n",
       "    <tr>\n",
       "      <th>1</th>\n",
       "      <td>서울시</td>\n",
       "      <td>소계</td>\n",
       "      <td>599899329</td>\n",
       "      <td>34800098</td>\n",
       "      <td>5.8</td>\n",
       "    </tr>\n",
       "    <tr>\n",
       "      <th>2</th>\n",
       "      <td>서울시</td>\n",
       "      <td>종로구</td>\n",
       "      <td>18342888</td>\n",
       "      <td>2472689</td>\n",
       "      <td>13.5</td>\n",
       "    </tr>\n",
       "    <tr>\n",
       "      <th>3</th>\n",
       "      <td>서울시</td>\n",
       "      <td>중구</td>\n",
       "      <td>20641291</td>\n",
       "      <td>3785703</td>\n",
       "      <td>18.3</td>\n",
       "    </tr>\n",
       "    <tr>\n",
       "      <th>4</th>\n",
       "      <td>서울시</td>\n",
       "      <td>용산구</td>\n",
       "      <td>17520595</td>\n",
       "      <td>1264089</td>\n",
       "      <td>7.2</td>\n",
       "    </tr>\n",
       "  </tbody>\n",
       "</table>\n",
       "</div>"
      ],
      "text/plain": [
       "   자치구별(1)  자치구별(2)        2020     2020.1        2020.2\n",
       "0  자치구별(1)  자치구별(2)  건축물총면적 (㎡)  사무실면적 (㎡)  사무실면적구성비 (%)\n",
       "1      서울시       소계   599899329   34800098           5.8\n",
       "2      서울시      종로구    18342888    2472689          13.5\n",
       "3      서울시       중구    20641291    3785703          18.3\n",
       "4      서울시      용산구    17520595    1264089           7.2"
      ]
     },
     "execution_count": 3,
     "metadata": {},
     "output_type": "execute_result"
    }
   ],
   "source": [
    "a.head()"
   ]
  },
  {
   "cell_type": "code",
   "execution_count": 4,
   "id": "e5b15f08",
   "metadata": {},
   "outputs": [],
   "source": [
    "a=pd.read_csv('사무실면적.csv',header=1)"
   ]
  },
  {
   "cell_type": "code",
   "execution_count": 5,
   "id": "69f7ee0c",
   "metadata": {},
   "outputs": [],
   "source": [
    "a=a.drop(0)"
   ]
  },
  {
   "cell_type": "code",
   "execution_count": 6,
   "id": "de5f9fe9",
   "metadata": {},
   "outputs": [
    {
     "data": {
      "text/html": [
       "<div>\n",
       "<style scoped>\n",
       "    .dataframe tbody tr th:only-of-type {\n",
       "        vertical-align: middle;\n",
       "    }\n",
       "\n",
       "    .dataframe tbody tr th {\n",
       "        vertical-align: top;\n",
       "    }\n",
       "\n",
       "    .dataframe thead th {\n",
       "        text-align: right;\n",
       "    }\n",
       "</style>\n",
       "<table border=\"1\" class=\"dataframe\">\n",
       "  <thead>\n",
       "    <tr style=\"text-align: right;\">\n",
       "      <th></th>\n",
       "      <th>자치구별(1)</th>\n",
       "      <th>자치구별(2)</th>\n",
       "      <th>건축물총면적 (㎡)</th>\n",
       "      <th>사무실면적 (㎡)</th>\n",
       "      <th>사무실면적구성비 (%)</th>\n",
       "    </tr>\n",
       "  </thead>\n",
       "  <tbody>\n",
       "    <tr>\n",
       "      <th>1</th>\n",
       "      <td>서울시</td>\n",
       "      <td>종로구</td>\n",
       "      <td>18342888</td>\n",
       "      <td>2472689</td>\n",
       "      <td>13.5</td>\n",
       "    </tr>\n",
       "    <tr>\n",
       "      <th>2</th>\n",
       "      <td>서울시</td>\n",
       "      <td>중구</td>\n",
       "      <td>20641291</td>\n",
       "      <td>3785703</td>\n",
       "      <td>18.3</td>\n",
       "    </tr>\n",
       "    <tr>\n",
       "      <th>3</th>\n",
       "      <td>서울시</td>\n",
       "      <td>용산구</td>\n",
       "      <td>17520595</td>\n",
       "      <td>1264089</td>\n",
       "      <td>7.2</td>\n",
       "    </tr>\n",
       "    <tr>\n",
       "      <th>4</th>\n",
       "      <td>서울시</td>\n",
       "      <td>성동구</td>\n",
       "      <td>21311438</td>\n",
       "      <td>890964</td>\n",
       "      <td>4.2</td>\n",
       "    </tr>\n",
       "    <tr>\n",
       "      <th>5</th>\n",
       "      <td>서울시</td>\n",
       "      <td>광진구</td>\n",
       "      <td>16764743</td>\n",
       "      <td>770308</td>\n",
       "      <td>4.6</td>\n",
       "    </tr>\n",
       "  </tbody>\n",
       "</table>\n",
       "</div>"
      ],
      "text/plain": [
       "  자치구별(1) 자치구별(2)  건축물총면적 (㎡)  사무실면적 (㎡)  사무실면적구성비 (%)\n",
       "1     서울시     종로구    18342888    2472689          13.5\n",
       "2     서울시      중구    20641291    3785703          18.3\n",
       "3     서울시     용산구    17520595    1264089           7.2\n",
       "4     서울시     성동구    21311438     890964           4.2\n",
       "5     서울시     광진구    16764743     770308           4.6"
      ]
     },
     "execution_count": 6,
     "metadata": {},
     "output_type": "execute_result"
    }
   ],
   "source": [
    "a.head()"
   ]
  },
  {
   "cell_type": "code",
   "execution_count": 7,
   "id": "168713ac",
   "metadata": {},
   "outputs": [
    {
     "data": {
      "text/html": [
       "<div>\n",
       "<style scoped>\n",
       "    .dataframe tbody tr th:only-of-type {\n",
       "        vertical-align: middle;\n",
       "    }\n",
       "\n",
       "    .dataframe tbody tr th {\n",
       "        vertical-align: top;\n",
       "    }\n",
       "\n",
       "    .dataframe thead th {\n",
       "        text-align: right;\n",
       "    }\n",
       "</style>\n",
       "<table border=\"1\" class=\"dataframe\">\n",
       "  <thead>\n",
       "    <tr style=\"text-align: right;\">\n",
       "      <th></th>\n",
       "      <th>자치구별(2)</th>\n",
       "      <th>건축물총면적 (㎡)</th>\n",
       "      <th>사무실면적 (㎡)</th>\n",
       "    </tr>\n",
       "  </thead>\n",
       "  <tbody>\n",
       "    <tr>\n",
       "      <th>1</th>\n",
       "      <td>종로구</td>\n",
       "      <td>18342888</td>\n",
       "      <td>2472689</td>\n",
       "    </tr>\n",
       "    <tr>\n",
       "      <th>2</th>\n",
       "      <td>중구</td>\n",
       "      <td>20641291</td>\n",
       "      <td>3785703</td>\n",
       "    </tr>\n",
       "    <tr>\n",
       "      <th>3</th>\n",
       "      <td>용산구</td>\n",
       "      <td>17520595</td>\n",
       "      <td>1264089</td>\n",
       "    </tr>\n",
       "    <tr>\n",
       "      <th>4</th>\n",
       "      <td>성동구</td>\n",
       "      <td>21311438</td>\n",
       "      <td>890964</td>\n",
       "    </tr>\n",
       "    <tr>\n",
       "      <th>5</th>\n",
       "      <td>광진구</td>\n",
       "      <td>16764743</td>\n",
       "      <td>770308</td>\n",
       "    </tr>\n",
       "  </tbody>\n",
       "</table>\n",
       "</div>"
      ],
      "text/plain": [
       "  자치구별(2)  건축물총면적 (㎡)  사무실면적 (㎡)\n",
       "1     종로구    18342888    2472689\n",
       "2      중구    20641291    3785703\n",
       "3     용산구    17520595    1264089\n",
       "4     성동구    21311438     890964\n",
       "5     광진구    16764743     770308"
      ]
     },
     "execution_count": 7,
     "metadata": {},
     "output_type": "execute_result"
    }
   ],
   "source": [
    "a=a[['자치구별(2)','건축물총면적 (㎡)','사무실면적 (㎡)']]\n",
    "a.head()"
   ]
  },
  {
   "cell_type": "markdown",
   "id": "209c3fbe",
   "metadata": {},
   "source": [
    "# 구면적 데이터 정리"
   ]
  },
  {
   "cell_type": "code",
   "execution_count": 8,
   "id": "ad2036a7",
   "metadata": {},
   "outputs": [],
   "source": [
    "b=pd.read_csv('구면적.csv',header=2)"
   ]
  },
  {
   "cell_type": "code",
   "execution_count": 9,
   "id": "70f3fffb",
   "metadata": {},
   "outputs": [
    {
     "data": {
      "text/html": [
       "<div>\n",
       "<style scoped>\n",
       "    .dataframe tbody tr th:only-of-type {\n",
       "        vertical-align: middle;\n",
       "    }\n",
       "\n",
       "    .dataframe tbody tr th {\n",
       "        vertical-align: top;\n",
       "    }\n",
       "\n",
       "    .dataframe thead th {\n",
       "        text-align: right;\n",
       "    }\n",
       "</style>\n",
       "<table border=\"1\" class=\"dataframe\">\n",
       "  <thead>\n",
       "    <tr style=\"text-align: right;\">\n",
       "      <th></th>\n",
       "      <th>자치구별(1)</th>\n",
       "      <th>자치구별(2)</th>\n",
       "      <th>면적 (km²)</th>\n",
       "      <th>구성비 (%)</th>\n",
       "      <th>행정 (개)</th>\n",
       "      <th>법정 (개)</th>\n",
       "      <th>소계</th>\n",
       "      <th>소계.1</th>\n",
       "    </tr>\n",
       "  </thead>\n",
       "  <tbody>\n",
       "    <tr>\n",
       "      <th>0</th>\n",
       "      <td>서울시</td>\n",
       "      <td>소계</td>\n",
       "      <td>605.24</td>\n",
       "      <td>100.00</td>\n",
       "      <td>426</td>\n",
       "      <td>466</td>\n",
       "      <td>12859</td>\n",
       "      <td>96471</td>\n",
       "    </tr>\n",
       "    <tr>\n",
       "      <th>1</th>\n",
       "      <td>서울시</td>\n",
       "      <td>종로구</td>\n",
       "      <td>23.91</td>\n",
       "      <td>3.95</td>\n",
       "      <td>17</td>\n",
       "      <td>87</td>\n",
       "      <td>279</td>\n",
       "      <td>1475</td>\n",
       "    </tr>\n",
       "    <tr>\n",
       "      <th>2</th>\n",
       "      <td>서울시</td>\n",
       "      <td>중구</td>\n",
       "      <td>9.96</td>\n",
       "      <td>1.65</td>\n",
       "      <td>15</td>\n",
       "      <td>74</td>\n",
       "      <td>253</td>\n",
       "      <td>1580</td>\n",
       "    </tr>\n",
       "    <tr>\n",
       "      <th>3</th>\n",
       "      <td>서울시</td>\n",
       "      <td>용산구</td>\n",
       "      <td>21.87</td>\n",
       "      <td>3.61</td>\n",
       "      <td>16</td>\n",
       "      <td>36</td>\n",
       "      <td>356</td>\n",
       "      <td>2597</td>\n",
       "    </tr>\n",
       "    <tr>\n",
       "      <th>4</th>\n",
       "      <td>서울시</td>\n",
       "      <td>성동구</td>\n",
       "      <td>16.86</td>\n",
       "      <td>2.79</td>\n",
       "      <td>17</td>\n",
       "      <td>17</td>\n",
       "      <td>471</td>\n",
       "      <td>3645</td>\n",
       "    </tr>\n",
       "  </tbody>\n",
       "</table>\n",
       "</div>"
      ],
      "text/plain": [
       "  자치구별(1) 자치구별(2)  면적 (km²)  구성비 (%)  행정 (개)  법정 (개)     소계   소계.1\n",
       "0     서울시      소계    605.24   100.00     426     466  12859  96471\n",
       "1     서울시     종로구     23.91     3.95      17      87    279   1475\n",
       "2     서울시      중구      9.96     1.65      15      74    253   1580\n",
       "3     서울시     용산구     21.87     3.61      16      36    356   2597\n",
       "4     서울시     성동구     16.86     2.79      17      17    471   3645"
      ]
     },
     "execution_count": 9,
     "metadata": {},
     "output_type": "execute_result"
    }
   ],
   "source": [
    "b.head()"
   ]
  },
  {
   "cell_type": "code",
   "execution_count": 10,
   "id": "74a9e219",
   "metadata": {},
   "outputs": [],
   "source": [
    "b=b.drop(0)"
   ]
  },
  {
   "cell_type": "code",
   "execution_count": 11,
   "id": "72bdc596",
   "metadata": {},
   "outputs": [
    {
     "data": {
      "text/html": [
       "<div>\n",
       "<style scoped>\n",
       "    .dataframe tbody tr th:only-of-type {\n",
       "        vertical-align: middle;\n",
       "    }\n",
       "\n",
       "    .dataframe tbody tr th {\n",
       "        vertical-align: top;\n",
       "    }\n",
       "\n",
       "    .dataframe thead th {\n",
       "        text-align: right;\n",
       "    }\n",
       "</style>\n",
       "<table border=\"1\" class=\"dataframe\">\n",
       "  <thead>\n",
       "    <tr style=\"text-align: right;\">\n",
       "      <th></th>\n",
       "      <th>자치구별(1)</th>\n",
       "      <th>자치구별(2)</th>\n",
       "      <th>면적 (km²)</th>\n",
       "      <th>구성비 (%)</th>\n",
       "      <th>행정 (개)</th>\n",
       "      <th>법정 (개)</th>\n",
       "      <th>소계</th>\n",
       "      <th>소계.1</th>\n",
       "    </tr>\n",
       "  </thead>\n",
       "  <tbody>\n",
       "    <tr>\n",
       "      <th>1</th>\n",
       "      <td>서울시</td>\n",
       "      <td>종로구</td>\n",
       "      <td>23.91</td>\n",
       "      <td>3.95</td>\n",
       "      <td>17</td>\n",
       "      <td>87</td>\n",
       "      <td>279</td>\n",
       "      <td>1475</td>\n",
       "    </tr>\n",
       "    <tr>\n",
       "      <th>2</th>\n",
       "      <td>서울시</td>\n",
       "      <td>중구</td>\n",
       "      <td>9.96</td>\n",
       "      <td>1.65</td>\n",
       "      <td>15</td>\n",
       "      <td>74</td>\n",
       "      <td>253</td>\n",
       "      <td>1580</td>\n",
       "    </tr>\n",
       "    <tr>\n",
       "      <th>3</th>\n",
       "      <td>서울시</td>\n",
       "      <td>용산구</td>\n",
       "      <td>21.87</td>\n",
       "      <td>3.61</td>\n",
       "      <td>16</td>\n",
       "      <td>36</td>\n",
       "      <td>356</td>\n",
       "      <td>2597</td>\n",
       "    </tr>\n",
       "    <tr>\n",
       "      <th>4</th>\n",
       "      <td>서울시</td>\n",
       "      <td>성동구</td>\n",
       "      <td>16.86</td>\n",
       "      <td>2.79</td>\n",
       "      <td>17</td>\n",
       "      <td>17</td>\n",
       "      <td>471</td>\n",
       "      <td>3645</td>\n",
       "    </tr>\n",
       "    <tr>\n",
       "      <th>5</th>\n",
       "      <td>서울시</td>\n",
       "      <td>광진구</td>\n",
       "      <td>17.06</td>\n",
       "      <td>2.82</td>\n",
       "      <td>15</td>\n",
       "      <td>7</td>\n",
       "      <td>370</td>\n",
       "      <td>3012</td>\n",
       "    </tr>\n",
       "  </tbody>\n",
       "</table>\n",
       "</div>"
      ],
      "text/plain": [
       "  자치구별(1) 자치구별(2)  면적 (km²)  구성비 (%)  행정 (개)  법정 (개)   소계  소계.1\n",
       "1     서울시     종로구     23.91     3.95      17      87  279  1475\n",
       "2     서울시      중구      9.96     1.65      15      74  253  1580\n",
       "3     서울시     용산구     21.87     3.61      16      36  356  2597\n",
       "4     서울시     성동구     16.86     2.79      17      17  471  3645\n",
       "5     서울시     광진구     17.06     2.82      15       7  370  3012"
      ]
     },
     "execution_count": 11,
     "metadata": {},
     "output_type": "execute_result"
    }
   ],
   "source": [
    "b.head()"
   ]
  },
  {
   "cell_type": "code",
   "execution_count": 16,
   "id": "4457b2bb",
   "metadata": {},
   "outputs": [
    {
     "name": "stdout",
     "output_type": "stream",
     "text": [
      "(0.9999982835828662, 2.378817133809271e-64)\n"
     ]
    }
   ],
   "source": [
    "print(stats.pearsonr(b['면적 (km²)'],b['구성비 (%)']))\n",
    "# P < 0.05로 유의미, 매우 높은 상관관계로 면적 = 구성비로 볼 수 있음."
   ]
  },
  {
   "cell_type": "code",
   "execution_count": 17,
   "id": "0d92cc21",
   "metadata": {},
   "outputs": [],
   "source": [
    "b=b[['자치구별(2)','면적 (km²)']]"
   ]
  },
  {
   "cell_type": "code",
   "execution_count": 18,
   "id": "36551d23",
   "metadata": {},
   "outputs": [
    {
     "data": {
      "text/html": [
       "<div>\n",
       "<style scoped>\n",
       "    .dataframe tbody tr th:only-of-type {\n",
       "        vertical-align: middle;\n",
       "    }\n",
       "\n",
       "    .dataframe tbody tr th {\n",
       "        vertical-align: top;\n",
       "    }\n",
       "\n",
       "    .dataframe thead th {\n",
       "        text-align: right;\n",
       "    }\n",
       "</style>\n",
       "<table border=\"1\" class=\"dataframe\">\n",
       "  <thead>\n",
       "    <tr style=\"text-align: right;\">\n",
       "      <th></th>\n",
       "      <th>자치구별(2)</th>\n",
       "      <th>면적 (km²)</th>\n",
       "    </tr>\n",
       "  </thead>\n",
       "  <tbody>\n",
       "    <tr>\n",
       "      <th>1</th>\n",
       "      <td>종로구</td>\n",
       "      <td>23.91</td>\n",
       "    </tr>\n",
       "    <tr>\n",
       "      <th>2</th>\n",
       "      <td>중구</td>\n",
       "      <td>9.96</td>\n",
       "    </tr>\n",
       "    <tr>\n",
       "      <th>3</th>\n",
       "      <td>용산구</td>\n",
       "      <td>21.87</td>\n",
       "    </tr>\n",
       "    <tr>\n",
       "      <th>4</th>\n",
       "      <td>성동구</td>\n",
       "      <td>16.86</td>\n",
       "    </tr>\n",
       "    <tr>\n",
       "      <th>5</th>\n",
       "      <td>광진구</td>\n",
       "      <td>17.06</td>\n",
       "    </tr>\n",
       "  </tbody>\n",
       "</table>\n",
       "</div>"
      ],
      "text/plain": [
       "  자치구별(2)  면적 (km²)\n",
       "1     종로구     23.91\n",
       "2      중구      9.96\n",
       "3     용산구     21.87\n",
       "4     성동구     16.86\n",
       "5     광진구     17.06"
      ]
     },
     "execution_count": 18,
     "metadata": {},
     "output_type": "execute_result"
    }
   ],
   "source": [
    "b.head()"
   ]
  },
  {
   "cell_type": "code",
   "execution_count": 19,
   "id": "72d97d41",
   "metadata": {},
   "outputs": [],
   "source": [
    "c=pd.merge(a,b,how='inner')"
   ]
  },
  {
   "cell_type": "code",
   "execution_count": 20,
   "id": "7fa24739",
   "metadata": {},
   "outputs": [
    {
     "data": {
      "text/html": [
       "<div>\n",
       "<style scoped>\n",
       "    .dataframe tbody tr th:only-of-type {\n",
       "        vertical-align: middle;\n",
       "    }\n",
       "\n",
       "    .dataframe tbody tr th {\n",
       "        vertical-align: top;\n",
       "    }\n",
       "\n",
       "    .dataframe thead th {\n",
       "        text-align: right;\n",
       "    }\n",
       "</style>\n",
       "<table border=\"1\" class=\"dataframe\">\n",
       "  <thead>\n",
       "    <tr style=\"text-align: right;\">\n",
       "      <th></th>\n",
       "      <th>자치구별(2)</th>\n",
       "      <th>건축물총면적 (㎡)</th>\n",
       "      <th>사무실면적 (㎡)</th>\n",
       "      <th>면적 (km²)</th>\n",
       "    </tr>\n",
       "  </thead>\n",
       "  <tbody>\n",
       "    <tr>\n",
       "      <th>0</th>\n",
       "      <td>종로구</td>\n",
       "      <td>18342888</td>\n",
       "      <td>2472689</td>\n",
       "      <td>23.91</td>\n",
       "    </tr>\n",
       "    <tr>\n",
       "      <th>1</th>\n",
       "      <td>중구</td>\n",
       "      <td>20641291</td>\n",
       "      <td>3785703</td>\n",
       "      <td>9.96</td>\n",
       "    </tr>\n",
       "    <tr>\n",
       "      <th>2</th>\n",
       "      <td>용산구</td>\n",
       "      <td>17520595</td>\n",
       "      <td>1264089</td>\n",
       "      <td>21.87</td>\n",
       "    </tr>\n",
       "    <tr>\n",
       "      <th>3</th>\n",
       "      <td>성동구</td>\n",
       "      <td>21311438</td>\n",
       "      <td>890964</td>\n",
       "      <td>16.86</td>\n",
       "    </tr>\n",
       "    <tr>\n",
       "      <th>4</th>\n",
       "      <td>광진구</td>\n",
       "      <td>16764743</td>\n",
       "      <td>770308</td>\n",
       "      <td>17.06</td>\n",
       "    </tr>\n",
       "  </tbody>\n",
       "</table>\n",
       "</div>"
      ],
      "text/plain": [
       "  자치구별(2)  건축물총면적 (㎡)  사무실면적 (㎡)  면적 (km²)\n",
       "0     종로구    18342888    2472689     23.91\n",
       "1      중구    20641291    3785703      9.96\n",
       "2     용산구    17520595    1264089     21.87\n",
       "3     성동구    21311438     890964     16.86\n",
       "4     광진구    16764743     770308     17.06"
      ]
     },
     "execution_count": 20,
     "metadata": {},
     "output_type": "execute_result"
    }
   ],
   "source": [
    "c.head()"
   ]
  },
  {
   "cell_type": "code",
   "execution_count": 21,
   "id": "80ea18ec",
   "metadata": {},
   "outputs": [],
   "source": [
    "# km²을 ㎡으로 변환\n",
    "c['면적 (km²)']=c['면적 (km²)']/0.0000010000"
   ]
  },
  {
   "cell_type": "code",
   "execution_count": 22,
   "id": "a5070f8d",
   "metadata": {},
   "outputs": [],
   "source": [
    "c.rename(columns={'면적 (km²)':'면적 (㎡)','자치구별(2)':'자치구'},inplace=True)"
   ]
  },
  {
   "cell_type": "code",
   "execution_count": 23,
   "id": "bc42c7c8",
   "metadata": {},
   "outputs": [
    {
     "data": {
      "text/html": [
       "<div>\n",
       "<style scoped>\n",
       "    .dataframe tbody tr th:only-of-type {\n",
       "        vertical-align: middle;\n",
       "    }\n",
       "\n",
       "    .dataframe tbody tr th {\n",
       "        vertical-align: top;\n",
       "    }\n",
       "\n",
       "    .dataframe thead th {\n",
       "        text-align: right;\n",
       "    }\n",
       "</style>\n",
       "<table border=\"1\" class=\"dataframe\">\n",
       "  <thead>\n",
       "    <tr style=\"text-align: right;\">\n",
       "      <th></th>\n",
       "      <th>자치구</th>\n",
       "      <th>건축물총면적 (㎡)</th>\n",
       "      <th>사무실면적 (㎡)</th>\n",
       "      <th>면적 (㎡)</th>\n",
       "    </tr>\n",
       "  </thead>\n",
       "  <tbody>\n",
       "    <tr>\n",
       "      <th>0</th>\n",
       "      <td>종로구</td>\n",
       "      <td>18342888</td>\n",
       "      <td>2472689</td>\n",
       "      <td>23910000.0</td>\n",
       "    </tr>\n",
       "    <tr>\n",
       "      <th>1</th>\n",
       "      <td>중구</td>\n",
       "      <td>20641291</td>\n",
       "      <td>3785703</td>\n",
       "      <td>9960000.0</td>\n",
       "    </tr>\n",
       "    <tr>\n",
       "      <th>2</th>\n",
       "      <td>용산구</td>\n",
       "      <td>17520595</td>\n",
       "      <td>1264089</td>\n",
       "      <td>21870000.0</td>\n",
       "    </tr>\n",
       "    <tr>\n",
       "      <th>3</th>\n",
       "      <td>성동구</td>\n",
       "      <td>21311438</td>\n",
       "      <td>890964</td>\n",
       "      <td>16860000.0</td>\n",
       "    </tr>\n",
       "    <tr>\n",
       "      <th>4</th>\n",
       "      <td>광진구</td>\n",
       "      <td>16764743</td>\n",
       "      <td>770308</td>\n",
       "      <td>17060000.0</td>\n",
       "    </tr>\n",
       "  </tbody>\n",
       "</table>\n",
       "</div>"
      ],
      "text/plain": [
       "   자치구  건축물총면적 (㎡)  사무실면적 (㎡)      면적 (㎡)\n",
       "0  종로구    18342888    2472689  23910000.0\n",
       "1   중구    20641291    3785703   9960000.0\n",
       "2  용산구    17520595    1264089  21870000.0\n",
       "3  성동구    21311438     890964  16860000.0\n",
       "4  광진구    16764743     770308  17060000.0"
      ]
     },
     "execution_count": 23,
     "metadata": {},
     "output_type": "execute_result"
    }
   ],
   "source": [
    "c.head()"
   ]
  },
  {
   "cell_type": "markdown",
   "id": "2fb54cc1",
   "metadata": {},
   "source": [
    "# 정류장,노선 수 데이터 정리"
   ]
  },
  {
   "cell_type": "code",
   "execution_count": 24,
   "id": "03603ae4",
   "metadata": {},
   "outputs": [],
   "source": [
    "d=pd.read_csv('df_seoul_bus_station.csv')"
   ]
  },
  {
   "cell_type": "code",
   "execution_count": 25,
   "id": "4aba33a8",
   "metadata": {},
   "outputs": [
    {
     "data": {
      "text/html": [
       "<div>\n",
       "<style scoped>\n",
       "    .dataframe tbody tr th:only-of-type {\n",
       "        vertical-align: middle;\n",
       "    }\n",
       "\n",
       "    .dataframe tbody tr th {\n",
       "        vertical-align: top;\n",
       "    }\n",
       "\n",
       "    .dataframe thead th {\n",
       "        text-align: right;\n",
       "    }\n",
       "</style>\n",
       "<table border=\"1\" class=\"dataframe\">\n",
       "  <thead>\n",
       "    <tr style=\"text-align: right;\">\n",
       "      <th></th>\n",
       "      <th>자치구</th>\n",
       "      <th>정류장수</th>\n",
       "      <th>노선수</th>\n",
       "      <th>승차총승객수</th>\n",
       "      <th>하차총승객수</th>\n",
       "      <th>승차평균승객수</th>\n",
       "      <th>하차평균승객수</th>\n",
       "    </tr>\n",
       "  </thead>\n",
       "  <tbody>\n",
       "    <tr>\n",
       "      <th>0</th>\n",
       "      <td>강남구</td>\n",
       "      <td>499</td>\n",
       "      <td>91</td>\n",
       "      <td>8030483</td>\n",
       "      <td>7569213</td>\n",
       "      <td>128.767927</td>\n",
       "      <td>121.371512</td>\n",
       "    </tr>\n",
       "    <tr>\n",
       "      <th>1</th>\n",
       "      <td>강동구</td>\n",
       "      <td>369</td>\n",
       "      <td>21</td>\n",
       "      <td>2890053</td>\n",
       "      <td>2830506</td>\n",
       "      <td>99.161194</td>\n",
       "      <td>97.118065</td>\n",
       "    </tr>\n",
       "    <tr>\n",
       "      <th>2</th>\n",
       "      <td>강북구</td>\n",
       "      <td>413</td>\n",
       "      <td>67</td>\n",
       "      <td>4825181</td>\n",
       "      <td>4671783</td>\n",
       "      <td>133.020373</td>\n",
       "      <td>128.791504</td>\n",
       "    </tr>\n",
       "    <tr>\n",
       "      <th>3</th>\n",
       "      <td>강서구</td>\n",
       "      <td>566</td>\n",
       "      <td>49</td>\n",
       "      <td>4681083</td>\n",
       "      <td>4652828</td>\n",
       "      <td>88.119480</td>\n",
       "      <td>87.587591</td>\n",
       "    </tr>\n",
       "    <tr>\n",
       "      <th>4</th>\n",
       "      <td>관악구</td>\n",
       "      <td>466</td>\n",
       "      <td>86</td>\n",
       "      <td>7655819</td>\n",
       "      <td>7792476</td>\n",
       "      <td>154.753674</td>\n",
       "      <td>157.516040</td>\n",
       "    </tr>\n",
       "  </tbody>\n",
       "</table>\n",
       "</div>"
      ],
      "text/plain": [
       "   자치구  정류장수  노선수   승차총승객수   하차총승객수     승차평균승객수     하차평균승객수\n",
       "0  강남구   499   91  8030483  7569213  128.767927  121.371512\n",
       "1  강동구   369   21  2890053  2830506   99.161194   97.118065\n",
       "2  강북구   413   67  4825181  4671783  133.020373  128.791504\n",
       "3  강서구   566   49  4681083  4652828   88.119480   87.587591\n",
       "4  관악구   466   86  7655819  7792476  154.753674  157.516040"
      ]
     },
     "execution_count": 25,
     "metadata": {},
     "output_type": "execute_result"
    }
   ],
   "source": [
    "d.head()"
   ]
  },
  {
   "cell_type": "code",
   "execution_count": 26,
   "id": "76306843",
   "metadata": {},
   "outputs": [],
   "source": [
    "d=d[['자치구','정류장수','노선수']]"
   ]
  },
  {
   "cell_type": "code",
   "execution_count": 27,
   "id": "236d231b",
   "metadata": {},
   "outputs": [],
   "source": [
    "e=pd.merge(c,d,how='inner',on='자치구')"
   ]
  },
  {
   "cell_type": "code",
   "execution_count": 28,
   "id": "7695c002",
   "metadata": {},
   "outputs": [
    {
     "data": {
      "text/html": [
       "<div>\n",
       "<style scoped>\n",
       "    .dataframe tbody tr th:only-of-type {\n",
       "        vertical-align: middle;\n",
       "    }\n",
       "\n",
       "    .dataframe tbody tr th {\n",
       "        vertical-align: top;\n",
       "    }\n",
       "\n",
       "    .dataframe thead th {\n",
       "        text-align: right;\n",
       "    }\n",
       "</style>\n",
       "<table border=\"1\" class=\"dataframe\">\n",
       "  <thead>\n",
       "    <tr style=\"text-align: right;\">\n",
       "      <th></th>\n",
       "      <th>건축물총면적 (㎡)</th>\n",
       "      <th>사무실면적 (㎡)</th>\n",
       "      <th>면적 (㎡)</th>\n",
       "      <th>정류장수</th>\n",
       "      <th>노선수</th>\n",
       "    </tr>\n",
       "    <tr>\n",
       "      <th>자치구</th>\n",
       "      <th></th>\n",
       "      <th></th>\n",
       "      <th></th>\n",
       "      <th></th>\n",
       "      <th></th>\n",
       "    </tr>\n",
       "  </thead>\n",
       "  <tbody>\n",
       "    <tr>\n",
       "      <th>종로구</th>\n",
       "      <td>18342888</td>\n",
       "      <td>2472689</td>\n",
       "      <td>23910000.0</td>\n",
       "      <td>349</td>\n",
       "      <td>106</td>\n",
       "    </tr>\n",
       "    <tr>\n",
       "      <th>중구</th>\n",
       "      <td>20641291</td>\n",
       "      <td>3785703</td>\n",
       "      <td>9960000.0</td>\n",
       "      <td>178</td>\n",
       "      <td>103</td>\n",
       "    </tr>\n",
       "    <tr>\n",
       "      <th>용산구</th>\n",
       "      <td>17520595</td>\n",
       "      <td>1264089</td>\n",
       "      <td>21870000.0</td>\n",
       "      <td>323</td>\n",
       "      <td>67</td>\n",
       "    </tr>\n",
       "    <tr>\n",
       "      <th>성동구</th>\n",
       "      <td>21311438</td>\n",
       "      <td>890964</td>\n",
       "      <td>16860000.0</td>\n",
       "      <td>435</td>\n",
       "      <td>58</td>\n",
       "    </tr>\n",
       "    <tr>\n",
       "      <th>광진구</th>\n",
       "      <td>16764743</td>\n",
       "      <td>770308</td>\n",
       "      <td>17060000.0</td>\n",
       "      <td>269</td>\n",
       "      <td>41</td>\n",
       "    </tr>\n",
       "  </tbody>\n",
       "</table>\n",
       "</div>"
      ],
      "text/plain": [
       "     건축물총면적 (㎡)  사무실면적 (㎡)      면적 (㎡)  정류장수  노선수\n",
       "자치구                                              \n",
       "종로구    18342888    2472689  23910000.0   349  106\n",
       "중구     20641291    3785703   9960000.0   178  103\n",
       "용산구    17520595    1264089  21870000.0   323   67\n",
       "성동구    21311438     890964  16860000.0   435   58\n",
       "광진구    16764743     770308  17060000.0   269   41"
      ]
     },
     "execution_count": 28,
     "metadata": {},
     "output_type": "execute_result"
    }
   ],
   "source": [
    "e=e.set_index('자치구')\n",
    "e.head()"
   ]
  },
  {
   "cell_type": "code",
   "execution_count": 29,
   "id": "a972c50f",
   "metadata": {},
   "outputs": [],
   "source": [
    "# 구 별 전체 건축물중 사무실이 차지하는 비율\n",
    "e['사무실면적비율']=e['사무실면적 (㎡)']/e['건축물총면적 (㎡)']\n",
    "# 구 별 전체 면적 중 건축물이 차지하는 비율\n",
    "e['면적대비건축물면적비율']=e['건축물총면적 (㎡)']/e['면적 (㎡)']"
   ]
  },
  {
   "cell_type": "code",
   "execution_count": 30,
   "id": "295a874c",
   "metadata": {},
   "outputs": [],
   "source": [
    "# 시각화, 한글폰트 설정\n",
    "import seaborn as sns\n",
    "import matplotlib.pyplot as plt\n",
    "import scipy.stats as stats\n",
    "\n",
    "plt.rc('font', family='Malgun Gothic')\n",
    "sns.set(font=\"Malgun Gothic\", \n",
    "        rc={\"axes.unicode_minus\":False}, # 마이너스 부호 깨짐 현상 해결\n",
    "        style='darkgrid')       "
   ]
  },
  {
   "cell_type": "code",
   "execution_count": 31,
   "id": "73b5e2dd",
   "metadata": {},
   "outputs": [
    {
     "name": "stdout",
     "output_type": "stream",
     "text": [
      "(-0.2289298012731899, 0.2710070253954641)\n",
      "(0.5389607574414681, 0.005437079629456515)\n"
     ]
    }
   ],
   "source": [
    "# 1. 사무실면적비율이 높은 구의 정류장,노선 수가 많을 것이다.\n",
    "print(stats.pearsonr(e['정류장수'],e['사무실면적비율']))\n",
    "print(stats.pearsonr(e['노선수'],e['사무실면적비율']))\n",
    "# P > 0.05로 정류장 가설 기각\n",
    "# O < 0.05로 노선 가설 유의미"
   ]
  },
  {
   "cell_type": "code",
   "execution_count": 32,
   "id": "86f032ff",
   "metadata": {},
   "outputs": [
    {
     "data": {
      "image/png": "[encoded data removed]",
      "text/plain": [
       "<Figure size 640x480 with 1 Axes>"
      ]
     },
     "metadata": {},
     "output_type": "display_data"
    }
   ],
   "source": [
    "plt.scatter('사무실면적비율','노선수',data=e)\n",
    "for name,x,y in zip(e.index,e['사무실면적비율'],e['노선수']): \n",
    "    plt.text(x, y, name,fontsize=8) \n",
    "plt.show()"
   ]
  },
  {
   "cell_type": "code",
   "execution_count": 33,
   "id": "4e686701",
   "metadata": {},
   "outputs": [
    {
     "data": {
      "text/plain": [
       "자치구\n",
       "중구       561.600573\n",
       "강동구      565.409338\n",
       "강남구      757.792325\n",
       "종로구      786.328620\n",
       "광진구      892.311209\n",
       "용산구      928.637038\n",
       "마포구      994.689649\n",
       "서초구     1013.161723\n",
       "영등포구    1098.554773\n",
       "강서구     1181.737102\n",
       "송파구     1260.402092\n",
       "성동구     1387.332602\n",
       "동대문구    1773.256039\n",
       "중랑구     1879.230929\n",
       "금천구     2123.356178\n",
       "양천구     2261.259211\n",
       "관악구     2296.177759\n",
       "강북구     2355.402799\n",
       "도봉구     2779.233822\n",
       "구로구     2960.200725\n",
       "은평구     3384.938377\n",
       "서대문구    3424.077127\n",
       "동작구     3635.749263\n",
       "성북구     4508.884176\n",
       "노원구     4819.533208\n",
       "dtype: float64"
      ]
     },
     "execution_count": 33,
     "metadata": {},
     "output_type": "execute_result"
    }
   ],
   "source": [
    "(e['노선수']/e['사무실면적비율']).sort_values(ascending=True)"
   ]
  },
  {
   "cell_type": "code",
   "execution_count": 34,
   "id": "2ef1daa7",
   "metadata": {},
   "outputs": [
    {
     "name": "stdout",
     "output_type": "stream",
     "text": [
      "(-0.49253933347891754, 0.012373579719535278)\n",
      "(0.14261098460736335, 0.4964804377908355)\n"
     ]
    }
   ],
   "source": [
    "# 2. 건축물면적비율이 높은 구의 정류장,노선 수가 많을 것이다.\n",
    "print(stats.pearsonr(e['정류장수'],e['면적대비건축물면적비율']))\n",
    "print(stats.pearsonr(e['노선수'],e['면적대비건축물면적비율']))\n",
    "# P < 0.05로 정류장 가설 유의미\n",
    "# P > 0.05로 노선 가설 기각"
   ]
  },
  {
   "cell_type": "code",
   "execution_count": 35,
   "id": "5eb659d0",
   "metadata": {},
   "outputs": [
    {
     "data": {
      "image/png": "[encoded data removed]",
      "text/plain": [
       "<Figure size 640x480 with 1 Axes>"
      ]
     },
     "metadata": {},
     "output_type": "display_data"
    }
   ],
   "source": [
    "plt.scatter('면적대비건축물면적비율','정류장수',data=e)\n",
    "for name,x,y in zip(e.index,e['면적대비건축물면적비율'],e['정류장수']): \n",
    "    plt.text(x, y, name,fontsize=8) \n",
    "plt.show()"
   ]
  },
  {
   "cell_type": "code",
   "execution_count": 36,
   "id": "3597eb1f",
   "metadata": {},
   "outputs": [
    {
     "data": {
      "text/plain": [
       "자치구\n",
       "중구       85.889977\n",
       "동대문구    222.809761\n",
       "양천구     256.372818\n",
       "금천구     265.401769\n",
       "광진구     273.737569\n",
       "중랑구     322.293889\n",
       "송파구     335.980886\n",
       "강동구     338.029967\n",
       "성동구     344.139143\n",
       "동작구     377.687706\n",
       "영등포구    382.011854\n",
       "강남구     384.393047\n",
       "용산구     403.183225\n",
       "구로구     411.737096\n",
       "서대문구    452.712328\n",
       "종로구     454.922366\n",
       "도봉구     469.030635\n",
       "마포구     549.164787\n",
       "관악구     597.462915\n",
       "성북구     647.345216\n",
       "강서구     662.323355\n",
       "은평구     710.435501\n",
       "강북구     743.748421\n",
       "노원구     768.293251\n",
       "서초구     788.807971\n",
       "dtype: float64"
      ]
     },
     "execution_count": 36,
     "metadata": {},
     "output_type": "execute_result"
    }
   ],
   "source": [
    "(e['정류장수']/e['면적대비건축물면적비율']).sort_values(ascending=True)"
   ]
  },
  {
   "cell_type": "code",
   "execution_count": 37,
   "id": "59ca089c",
   "metadata": {},
   "outputs": [
    {
     "data": {
      "text/html": [
       "<table class=\"simpletable\">\n",
       "<caption>OLS Regression Results</caption>\n",
       "<tr>\n",
       "  <th>Dep. Variable:</th>            <td>y</td>        <th>  R-squared:         </th> <td>   0.243</td>\n",
       "</tr>\n",
       "<tr>\n",
       "  <th>Model:</th>                   <td>OLS</td>       <th>  Adj. R-squared:    </th> <td>   0.210</td>\n",
       "</tr>\n",
       "<tr>\n",
       "  <th>Method:</th>             <td>Least Squares</td>  <th>  F-statistic:       </th> <td>   7.367</td>\n",
       "</tr>\n",
       "<tr>\n",
       "  <th>Date:</th>             <td>Tue, 15 Nov 2022</td> <th>  Prob (F-statistic):</th>  <td>0.0124</td> \n",
       "</tr>\n",
       "<tr>\n",
       "  <th>Time:</th>                 <td>21:30:21</td>     <th>  Log-Likelihood:    </th> <td> -148.14</td>\n",
       "</tr>\n",
       "<tr>\n",
       "  <th>No. Observations:</th>      <td>    25</td>      <th>  AIC:               </th> <td>   300.3</td>\n",
       "</tr>\n",
       "<tr>\n",
       "  <th>Df Residuals:</th>          <td>    23</td>      <th>  BIC:               </th> <td>   302.7</td>\n",
       "</tr>\n",
       "<tr>\n",
       "  <th>Df Model:</th>              <td>     1</td>      <th>                     </th>     <td> </td>   \n",
       "</tr>\n",
       "<tr>\n",
       "  <th>Covariance Type:</th>      <td>nonrobust</td>    <th>                     </th>     <td> </td>   \n",
       "</tr>\n",
       "</table>\n",
       "<table class=\"simpletable\">\n",
       "<tr>\n",
       "    <td></td>       <th>coef</th>     <th>std err</th>      <th>t</th>      <th>P>|t|</th>  <th>[0.025</th>    <th>0.975]</th>  \n",
       "</tr>\n",
       "<tr>\n",
       "  <th>const</th> <td>  597.6482</td> <td>   66.498</td> <td>    8.987</td> <td> 0.000</td> <td>  460.086</td> <td>  735.210</td>\n",
       "</tr>\n",
       "<tr>\n",
       "  <th>x1</th>    <td> -165.0155</td> <td>   60.797</td> <td>   -2.714</td> <td> 0.012</td> <td> -290.784</td> <td>  -39.247</td>\n",
       "</tr>\n",
       "</table>\n",
       "<table class=\"simpletable\">\n",
       "<tr>\n",
       "  <th>Omnibus:</th>       <td> 2.055</td> <th>  Durbin-Watson:     </th> <td>   1.765</td>\n",
       "</tr>\n",
       "<tr>\n",
       "  <th>Prob(Omnibus):</th> <td> 0.358</td> <th>  Jarque-Bera (JB):  </th> <td>   1.102</td>\n",
       "</tr>\n",
       "<tr>\n",
       "  <th>Skew:</th>          <td>-0.030</td> <th>  Prob(JB):          </th> <td>   0.576</td>\n",
       "</tr>\n",
       "<tr>\n",
       "  <th>Kurtosis:</th>      <td> 1.973</td> <th>  Cond. No.          </th> <td>    6.92</td>\n",
       "</tr>\n",
       "</table><br/><br/>Notes:<br/>[1] Standard Errors assume that the covariance matrix of the errors is correctly specified."
      ],
      "text/plain": [
       "<class 'statsmodels.iolib.summary.Summary'>\n",
       "\"\"\"\n",
       "                            OLS Regression Results                            \n",
       "==============================================================================\n",
       "Dep. Variable:                      y   R-squared:                       0.243\n",
       "Model:                            OLS   Adj. R-squared:                  0.210\n",
       "Method:                 Least Squares   F-statistic:                     7.367\n",
       "Date:                Tue, 15 Nov 2022   Prob (F-statistic):             0.0124\n",
       "Time:                        21:30:21   Log-Likelihood:                -148.14\n",
       "No. Observations:                  25   AIC:                             300.3\n",
       "Df Residuals:                      23   BIC:                             302.7\n",
       "Df Model:                           1                                         \n",
       "Covariance Type:            nonrobust                                         \n",
       "==============================================================================\n",
       "                 coef    std err          t      P>|t|      [0.025      0.975]\n",
       "------------------------------------------------------------------------------\n",
       "const        597.6482     66.498      8.987      0.000     460.086     735.210\n",
       "x1          -165.0155     60.797     -2.714      0.012    -290.784     -39.247\n",
       "==============================================================================\n",
       "Omnibus:                        2.055   Durbin-Watson:                   1.765\n",
       "Prob(Omnibus):                  0.358   Jarque-Bera (JB):                1.102\n",
       "Skew:                          -0.030   Prob(JB):                        0.576\n",
       "Kurtosis:                       1.973   Cond. No.                         6.92\n",
       "==============================================================================\n",
       "\n",
       "Notes:\n",
       "[1] Standard Errors assume that the covariance matrix of the errors is correctly specified.\n",
       "\"\"\""
      ]
     },
     "execution_count": 37,
     "metadata": {},
     "output_type": "execute_result"
    }
   ],
   "source": [
    "from sklearn.linear_model import LinearRegression\n",
    "lr = LinearRegression()\n",
    "\n",
    "x= e['면적대비건축물면적비율'].values\n",
    "y= e['정류장수'].values\n",
    "\n",
    "x = x.reshape(-1,1)\n",
    "y = y.reshape(-1,1)\n",
    "\n",
    "lr.fit(x, y)\n",
    "\n",
    "import statsmodels.api as sm\n",
    "results = sm.OLS(y, sm.add_constant(x)).fit()\n",
    "\n",
    "results.summary()"
   ]
  }
 ],
 "metadata": {
  "kernelspec": {
   "display_name": "Python 3 (ipykernel)",
   "language": "python",
   "name": "python3"
  },
  "language_info": {
   "codemirror_mode": {
    "name": "ipython",
    "version": 3
   },
   "file_extension": ".py",
   "mimetype": "text/x-python",
   "name": "python",
   "nbconvert_exporter": "python",
   "pygments_lexer": "ipython3",
   "version": "3.9.12"
  }
 },
 "nbformat": 4,
 "nbformat_minor": 5
}
