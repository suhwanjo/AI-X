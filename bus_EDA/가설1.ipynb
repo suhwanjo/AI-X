{
 "cells": [
  {
   "cell_type": "code",
   "execution_count": 46,
   "id": "51d85b8e",
   "metadata": {},
   "outputs": [],
   "source": [
    "import pandas as pd"
   ]
  },
  {
   "cell_type": "code",
   "execution_count": 47,
   "id": "ffae4b5c",
   "metadata": {},
   "outputs": [],
   "source": [
    "a=pd.read_csv('구면적.csv',header=2)"
   ]
  },
  {
   "cell_type": "code",
   "execution_count": 48,
   "id": "ec003ee5",
   "metadata": {},
   "outputs": [
    {
     "data": {
      "text/html": [
       "<div>\n",
       "<style scoped>\n",
       "    .dataframe tbody tr th:only-of-type {\n",
       "        vertical-align: middle;\n",
       "    }\n",
       "\n",
       "    .dataframe tbody tr th {\n",
       "        vertical-align: top;\n",
       "    }\n",
       "\n",
       "    .dataframe thead th {\n",
       "        text-align: right;\n",
       "    }\n",
       "</style>\n",
       "<table border=\"1\" class=\"dataframe\">\n",
       "  <thead>\n",
       "    <tr style=\"text-align: right;\">\n",
       "      <th></th>\n",
       "      <th>자치구별(1)</th>\n",
       "      <th>자치구별(2)</th>\n",
       "      <th>면적 (km²)</th>\n",
       "      <th>구성비 (%)</th>\n",
       "      <th>행정 (개)</th>\n",
       "      <th>법정 (개)</th>\n",
       "      <th>소계</th>\n",
       "      <th>소계.1</th>\n",
       "    </tr>\n",
       "  </thead>\n",
       "  <tbody>\n",
       "    <tr>\n",
       "      <th>0</th>\n",
       "      <td>서울시</td>\n",
       "      <td>소계</td>\n",
       "      <td>605.24</td>\n",
       "      <td>100.00</td>\n",
       "      <td>426</td>\n",
       "      <td>466</td>\n",
       "      <td>12859</td>\n",
       "      <td>96471</td>\n",
       "    </tr>\n",
       "    <tr>\n",
       "      <th>1</th>\n",
       "      <td>서울시</td>\n",
       "      <td>종로구</td>\n",
       "      <td>23.91</td>\n",
       "      <td>3.95</td>\n",
       "      <td>17</td>\n",
       "      <td>87</td>\n",
       "      <td>279</td>\n",
       "      <td>1475</td>\n",
       "    </tr>\n",
       "    <tr>\n",
       "      <th>2</th>\n",
       "      <td>서울시</td>\n",
       "      <td>중구</td>\n",
       "      <td>9.96</td>\n",
       "      <td>1.65</td>\n",
       "      <td>15</td>\n",
       "      <td>74</td>\n",
       "      <td>253</td>\n",
       "      <td>1580</td>\n",
       "    </tr>\n",
       "    <tr>\n",
       "      <th>3</th>\n",
       "      <td>서울시</td>\n",
       "      <td>용산구</td>\n",
       "      <td>21.87</td>\n",
       "      <td>3.61</td>\n",
       "      <td>16</td>\n",
       "      <td>36</td>\n",
       "      <td>356</td>\n",
       "      <td>2597</td>\n",
       "    </tr>\n",
       "    <tr>\n",
       "      <th>4</th>\n",
       "      <td>서울시</td>\n",
       "      <td>성동구</td>\n",
       "      <td>16.86</td>\n",
       "      <td>2.79</td>\n",
       "      <td>17</td>\n",
       "      <td>17</td>\n",
       "      <td>471</td>\n",
       "      <td>3645</td>\n",
       "    </tr>\n",
       "  </tbody>\n",
       "</table>\n",
       "</div>"
      ],
      "text/plain": [
       "  자치구별(1) 자치구별(2)  면적 (km²)  구성비 (%)  행정 (개)  법정 (개)     소계   소계.1\n",
       "0     서울시      소계    605.24   100.00     426     466  12859  96471\n",
       "1     서울시     종로구     23.91     3.95      17      87    279   1475\n",
       "2     서울시      중구      9.96     1.65      15      74    253   1580\n",
       "3     서울시     용산구     21.87     3.61      16      36    356   2597\n",
       "4     서울시     성동구     16.86     2.79      17      17    471   3645"
      ]
     },
     "execution_count": 48,
     "metadata": {},
     "output_type": "execute_result"
    }
   ],
   "source": [
    "a.head()"
   ]
  },
  {
   "cell_type": "code",
   "execution_count": 49,
   "id": "87414e8c",
   "metadata": {},
   "outputs": [],
   "source": [
    "a=a.drop(0)"
   ]
  },
  {
   "cell_type": "code",
   "execution_count": 50,
   "id": "65b529e9",
   "metadata": {},
   "outputs": [],
   "source": [
    "a=a[['자치구별(2)','면적 (km²)','구성비 (%)']]"
   ]
  },
  {
   "cell_type": "code",
   "execution_count": 51,
   "id": "ded60d05",
   "metadata": {},
   "outputs": [
    {
     "data": {
      "text/html": [
       "<div>\n",
       "<style scoped>\n",
       "    .dataframe tbody tr th:only-of-type {\n",
       "        vertical-align: middle;\n",
       "    }\n",
       "\n",
       "    .dataframe tbody tr th {\n",
       "        vertical-align: top;\n",
       "    }\n",
       "\n",
       "    .dataframe thead th {\n",
       "        text-align: right;\n",
       "    }\n",
       "</style>\n",
       "<table border=\"1\" class=\"dataframe\">\n",
       "  <thead>\n",
       "    <tr style=\"text-align: right;\">\n",
       "      <th></th>\n",
       "      <th>자치구별(2)</th>\n",
       "      <th>면적 (km²)</th>\n",
       "      <th>구성비 (%)</th>\n",
       "    </tr>\n",
       "  </thead>\n",
       "  <tbody>\n",
       "    <tr>\n",
       "      <th>22</th>\n",
       "      <td>서초구</td>\n",
       "      <td>46.98</td>\n",
       "      <td>7.76</td>\n",
       "    </tr>\n",
       "    <tr>\n",
       "      <th>16</th>\n",
       "      <td>강서구</td>\n",
       "      <td>41.45</td>\n",
       "      <td>6.85</td>\n",
       "    </tr>\n",
       "    <tr>\n",
       "      <th>23</th>\n",
       "      <td>강남구</td>\n",
       "      <td>39.50</td>\n",
       "      <td>6.53</td>\n",
       "    </tr>\n",
       "    <tr>\n",
       "      <th>11</th>\n",
       "      <td>노원구</td>\n",
       "      <td>35.44</td>\n",
       "      <td>5.86</td>\n",
       "    </tr>\n",
       "    <tr>\n",
       "      <th>24</th>\n",
       "      <td>송파구</td>\n",
       "      <td>33.88</td>\n",
       "      <td>5.60</td>\n",
       "    </tr>\n",
       "    <tr>\n",
       "      <th>12</th>\n",
       "      <td>은평구</td>\n",
       "      <td>29.71</td>\n",
       "      <td>4.91</td>\n",
       "    </tr>\n",
       "    <tr>\n",
       "      <th>21</th>\n",
       "      <td>관악구</td>\n",
       "      <td>29.57</td>\n",
       "      <td>4.89</td>\n",
       "    </tr>\n",
       "    <tr>\n",
       "      <th>25</th>\n",
       "      <td>강동구</td>\n",
       "      <td>24.59</td>\n",
       "      <td>4.06</td>\n",
       "    </tr>\n",
       "    <tr>\n",
       "      <th>8</th>\n",
       "      <td>성북구</td>\n",
       "      <td>24.58</td>\n",
       "      <td>4.06</td>\n",
       "    </tr>\n",
       "    <tr>\n",
       "      <th>19</th>\n",
       "      <td>영등포구</td>\n",
       "      <td>24.55</td>\n",
       "      <td>4.06</td>\n",
       "    </tr>\n",
       "    <tr>\n",
       "      <th>1</th>\n",
       "      <td>종로구</td>\n",
       "      <td>23.91</td>\n",
       "      <td>3.95</td>\n",
       "    </tr>\n",
       "    <tr>\n",
       "      <th>14</th>\n",
       "      <td>마포구</td>\n",
       "      <td>23.85</td>\n",
       "      <td>3.94</td>\n",
       "    </tr>\n",
       "    <tr>\n",
       "      <th>9</th>\n",
       "      <td>강북구</td>\n",
       "      <td>23.60</td>\n",
       "      <td>3.90</td>\n",
       "    </tr>\n",
       "    <tr>\n",
       "      <th>3</th>\n",
       "      <td>용산구</td>\n",
       "      <td>21.87</td>\n",
       "      <td>3.61</td>\n",
       "    </tr>\n",
       "    <tr>\n",
       "      <th>10</th>\n",
       "      <td>도봉구</td>\n",
       "      <td>20.65</td>\n",
       "      <td>3.41</td>\n",
       "    </tr>\n",
       "    <tr>\n",
       "      <th>17</th>\n",
       "      <td>구로구</td>\n",
       "      <td>20.12</td>\n",
       "      <td>3.32</td>\n",
       "    </tr>\n",
       "    <tr>\n",
       "      <th>7</th>\n",
       "      <td>중랑구</td>\n",
       "      <td>18.50</td>\n",
       "      <td>3.06</td>\n",
       "    </tr>\n",
       "    <tr>\n",
       "      <th>13</th>\n",
       "      <td>서대문구</td>\n",
       "      <td>17.63</td>\n",
       "      <td>2.91</td>\n",
       "    </tr>\n",
       "    <tr>\n",
       "      <th>15</th>\n",
       "      <td>양천구</td>\n",
       "      <td>17.41</td>\n",
       "      <td>2.88</td>\n",
       "    </tr>\n",
       "    <tr>\n",
       "      <th>5</th>\n",
       "      <td>광진구</td>\n",
       "      <td>17.06</td>\n",
       "      <td>2.82</td>\n",
       "    </tr>\n",
       "    <tr>\n",
       "      <th>4</th>\n",
       "      <td>성동구</td>\n",
       "      <td>16.86</td>\n",
       "      <td>2.79</td>\n",
       "    </tr>\n",
       "    <tr>\n",
       "      <th>20</th>\n",
       "      <td>동작구</td>\n",
       "      <td>16.36</td>\n",
       "      <td>2.70</td>\n",
       "    </tr>\n",
       "    <tr>\n",
       "      <th>6</th>\n",
       "      <td>동대문구</td>\n",
       "      <td>14.22</td>\n",
       "      <td>2.35</td>\n",
       "    </tr>\n",
       "    <tr>\n",
       "      <th>18</th>\n",
       "      <td>금천구</td>\n",
       "      <td>13.02</td>\n",
       "      <td>2.15</td>\n",
       "    </tr>\n",
       "    <tr>\n",
       "      <th>2</th>\n",
       "      <td>중구</td>\n",
       "      <td>9.96</td>\n",
       "      <td>1.65</td>\n",
       "    </tr>\n",
       "  </tbody>\n",
       "</table>\n",
       "</div>"
      ],
      "text/plain": [
       "   자치구별(2)  면적 (km²)  구성비 (%)\n",
       "22     서초구     46.98     7.76\n",
       "16     강서구     41.45     6.85\n",
       "23     강남구     39.50     6.53\n",
       "11     노원구     35.44     5.86\n",
       "24     송파구     33.88     5.60\n",
       "12     은평구     29.71     4.91\n",
       "21     관악구     29.57     4.89\n",
       "25     강동구     24.59     4.06\n",
       "8      성북구     24.58     4.06\n",
       "19    영등포구     24.55     4.06\n",
       "1      종로구     23.91     3.95\n",
       "14     마포구     23.85     3.94\n",
       "9      강북구     23.60     3.90\n",
       "3      용산구     21.87     3.61\n",
       "10     도봉구     20.65     3.41\n",
       "17     구로구     20.12     3.32\n",
       "7      중랑구     18.50     3.06\n",
       "13    서대문구     17.63     2.91\n",
       "15     양천구     17.41     2.88\n",
       "5      광진구     17.06     2.82\n",
       "4      성동구     16.86     2.79\n",
       "20     동작구     16.36     2.70\n",
       "6     동대문구     14.22     2.35\n",
       "18     금천구     13.02     2.15\n",
       "2       중구      9.96     1.65"
      ]
     },
     "execution_count": 51,
     "metadata": {},
     "output_type": "execute_result"
    }
   ],
   "source": [
    "a.sort_values('면적 (km²)',ascending=False)"
   ]
  },
  {
   "cell_type": "code",
   "execution_count": 52,
   "id": "6dbc3b3a",
   "metadata": {},
   "outputs": [],
   "source": [
    "a.rename(columns={'자치구별(2)':'자치구'},inplace=True)"
   ]
  },
  {
   "cell_type": "code",
   "execution_count": 53,
   "id": "076f3ab4",
   "metadata": {},
   "outputs": [],
   "source": [
    "b=pd.read_csv('df_seoul_business.csv')"
   ]
  },
  {
   "cell_type": "code",
   "execution_count": 54,
   "id": "bee656bb",
   "metadata": {},
   "outputs": [
    {
     "data": {
      "text/html": [
       "<div>\n",
       "<style scoped>\n",
       "    .dataframe tbody tr th:only-of-type {\n",
       "        vertical-align: middle;\n",
       "    }\n",
       "\n",
       "    .dataframe tbody tr th {\n",
       "        vertical-align: top;\n",
       "    }\n",
       "\n",
       "    .dataframe thead th {\n",
       "        text-align: right;\n",
       "    }\n",
       "</style>\n",
       "<table border=\"1\" class=\"dataframe\">\n",
       "  <thead>\n",
       "    <tr style=\"text-align: right;\">\n",
       "      <th></th>\n",
       "      <th>자치구</th>\n",
       "      <th>부동산 중개 및 대리업 사업체수</th>\n",
       "      <th>두발미용업 사업체수</th>\n",
       "      <th>남녀용 겉옷 및 셔츠 도매업 사업체수</th>\n",
       "      <th>기타주점업 사업체수</th>\n",
       "      <th>일반 교과 학원 사업체수</th>\n",
       "      <th>택시,용달 운송업 사업체수</th>\n",
       "      <th>한식 음식점,커피 전문점 사업체수</th>\n",
       "      <th>등록업종총합</th>\n",
       "    </tr>\n",
       "  </thead>\n",
       "  <tbody>\n",
       "    <tr>\n",
       "      <th>0</th>\n",
       "      <td>강남구</td>\n",
       "      <td>4674</td>\n",
       "      <td>2482</td>\n",
       "      <td>768</td>\n",
       "      <td>1426</td>\n",
       "      <td>2852</td>\n",
       "      <td>4482</td>\n",
       "      <td>9732</td>\n",
       "      <td>26416</td>\n",
       "    </tr>\n",
       "    <tr>\n",
       "      <th>1</th>\n",
       "      <td>강동구</td>\n",
       "      <td>2376</td>\n",
       "      <td>1800</td>\n",
       "      <td>118</td>\n",
       "      <td>1178</td>\n",
       "      <td>1240</td>\n",
       "      <td>9646</td>\n",
       "      <td>4150</td>\n",
       "      <td>20508</td>\n",
       "    </tr>\n",
       "    <tr>\n",
       "      <th>2</th>\n",
       "      <td>강북구</td>\n",
       "      <td>1178</td>\n",
       "      <td>1346</td>\n",
       "      <td>80</td>\n",
       "      <td>1160</td>\n",
       "      <td>440</td>\n",
       "      <td>5474</td>\n",
       "      <td>3370</td>\n",
       "      <td>13048</td>\n",
       "    </tr>\n",
       "    <tr>\n",
       "      <th>3</th>\n",
       "      <td>강서구</td>\n",
       "      <td>2622</td>\n",
       "      <td>2030</td>\n",
       "      <td>156</td>\n",
       "      <td>1588</td>\n",
       "      <td>1344</td>\n",
       "      <td>11068</td>\n",
       "      <td>5192</td>\n",
       "      <td>24000</td>\n",
       "    </tr>\n",
       "    <tr>\n",
       "      <th>4</th>\n",
       "      <td>관악구</td>\n",
       "      <td>2020</td>\n",
       "      <td>1790</td>\n",
       "      <td>62</td>\n",
       "      <td>1316</td>\n",
       "      <td>708</td>\n",
       "      <td>5730</td>\n",
       "      <td>4458</td>\n",
       "      <td>16084</td>\n",
       "    </tr>\n",
       "  </tbody>\n",
       "</table>\n",
       "</div>"
      ],
      "text/plain": [
       "   자치구  부동산 중개 및 대리업 사업체수  두발미용업 사업체수  남녀용 겉옷 및 셔츠 도매업 사업체수  기타주점업 사업체수  \\\n",
       "0  강남구               4674        2482                   768        1426   \n",
       "1  강동구               2376        1800                   118        1178   \n",
       "2  강북구               1178        1346                    80        1160   \n",
       "3  강서구               2622        2030                   156        1588   \n",
       "4  관악구               2020        1790                    62        1316   \n",
       "\n",
       "   일반 교과 학원 사업체수  택시,용달 운송업 사업체수  한식 음식점,커피 전문점 사업체수  등록업종총합  \n",
       "0           2852            4482                9732   26416  \n",
       "1           1240            9646                4150   20508  \n",
       "2            440            5474                3370   13048  \n",
       "3           1344           11068                5192   24000  \n",
       "4            708            5730                4458   16084  "
      ]
     },
     "execution_count": 54,
     "metadata": {},
     "output_type": "execute_result"
    }
   ],
   "source": [
    "b.head()"
   ]
  },
  {
   "cell_type": "code",
   "execution_count": 55,
   "id": "1961827a",
   "metadata": {},
   "outputs": [],
   "source": [
    "c=pd.merge(a,b,how='inner',on='자치구')"
   ]
  },
  {
   "cell_type": "code",
   "execution_count": 56,
   "id": "c76d01e9",
   "metadata": {},
   "outputs": [],
   "source": [
    "d=pd.read_csv('df_seoul_bus_station.csv')"
   ]
  },
  {
   "cell_type": "code",
   "execution_count": 57,
   "id": "a908ca7c",
   "metadata": {},
   "outputs": [],
   "source": [
    "d=d[['자치구','정류장수','노선수']]"
   ]
  },
  {
   "cell_type": "code",
   "execution_count": 58,
   "id": "62f0c28c",
   "metadata": {},
   "outputs": [],
   "source": [
    "e=pd.merge(c,d,how='inner',on='자치구')"
   ]
  },
  {
   "cell_type": "code",
   "execution_count": 59,
   "id": "e12de885",
   "metadata": {},
   "outputs": [
    {
     "data": {
      "text/html": [
       "<div>\n",
       "<style scoped>\n",
       "    .dataframe tbody tr th:only-of-type {\n",
       "        vertical-align: middle;\n",
       "    }\n",
       "\n",
       "    .dataframe tbody tr th {\n",
       "        vertical-align: top;\n",
       "    }\n",
       "\n",
       "    .dataframe thead th {\n",
       "        text-align: right;\n",
       "    }\n",
       "</style>\n",
       "<table border=\"1\" class=\"dataframe\">\n",
       "  <thead>\n",
       "    <tr style=\"text-align: right;\">\n",
       "      <th></th>\n",
       "      <th>자치구</th>\n",
       "      <th>면적 (km²)</th>\n",
       "      <th>구성비 (%)</th>\n",
       "      <th>부동산 중개 및 대리업 사업체수</th>\n",
       "      <th>두발미용업 사업체수</th>\n",
       "      <th>남녀용 겉옷 및 셔츠 도매업 사업체수</th>\n",
       "      <th>기타주점업 사업체수</th>\n",
       "      <th>일반 교과 학원 사업체수</th>\n",
       "      <th>택시,용달 운송업 사업체수</th>\n",
       "      <th>한식 음식점,커피 전문점 사업체수</th>\n",
       "      <th>등록업종총합</th>\n",
       "      <th>정류장수</th>\n",
       "      <th>노선수</th>\n",
       "    </tr>\n",
       "  </thead>\n",
       "  <tbody>\n",
       "    <tr>\n",
       "      <th>0</th>\n",
       "      <td>종로구</td>\n",
       "      <td>23.91</td>\n",
       "      <td>3.95</td>\n",
       "      <td>549</td>\n",
       "      <td>261</td>\n",
       "      <td>400</td>\n",
       "      <td>537</td>\n",
       "      <td>110</td>\n",
       "      <td>833</td>\n",
       "      <td>2933</td>\n",
       "      <td>5623</td>\n",
       "      <td>349</td>\n",
       "      <td>106</td>\n",
       "    </tr>\n",
       "    <tr>\n",
       "      <th>2</th>\n",
       "      <td>용산구</td>\n",
       "      <td>21.87</td>\n",
       "      <td>3.61</td>\n",
       "      <td>1582</td>\n",
       "      <td>732</td>\n",
       "      <td>108</td>\n",
       "      <td>974</td>\n",
       "      <td>208</td>\n",
       "      <td>1742</td>\n",
       "      <td>3582</td>\n",
       "      <td>8928</td>\n",
       "      <td>323</td>\n",
       "      <td>67</td>\n",
       "    </tr>\n",
       "    <tr>\n",
       "      <th>4</th>\n",
       "      <td>광진구</td>\n",
       "      <td>17.06</td>\n",
       "      <td>2.82</td>\n",
       "      <td>1742</td>\n",
       "      <td>1492</td>\n",
       "      <td>178</td>\n",
       "      <td>1266</td>\n",
       "      <td>826</td>\n",
       "      <td>4174</td>\n",
       "      <td>4040</td>\n",
       "      <td>13718</td>\n",
       "      <td>269</td>\n",
       "      <td>41</td>\n",
       "    </tr>\n",
       "    <tr>\n",
       "      <th>3</th>\n",
       "      <td>성동구</td>\n",
       "      <td>16.86</td>\n",
       "      <td>2.79</td>\n",
       "      <td>1602</td>\n",
       "      <td>978</td>\n",
       "      <td>298</td>\n",
       "      <td>570</td>\n",
       "      <td>516</td>\n",
       "      <td>4544</td>\n",
       "      <td>3806</td>\n",
       "      <td>12314</td>\n",
       "      <td>435</td>\n",
       "      <td>58</td>\n",
       "    </tr>\n",
       "    <tr>\n",
       "      <th>1</th>\n",
       "      <td>중구</td>\n",
       "      <td>9.96</td>\n",
       "      <td>1.65</td>\n",
       "      <td>1152</td>\n",
       "      <td>678</td>\n",
       "      <td>21620</td>\n",
       "      <td>762</td>\n",
       "      <td>114</td>\n",
       "      <td>1060</td>\n",
       "      <td>5800</td>\n",
       "      <td>31186</td>\n",
       "      <td>178</td>\n",
       "      <td>103</td>\n",
       "    </tr>\n",
       "  </tbody>\n",
       "</table>\n",
       "</div>"
      ],
      "text/plain": [
       "   자치구  면적 (km²)  구성비 (%)  부동산 중개 및 대리업 사업체수  두발미용업 사업체수  \\\n",
       "0  종로구     23.91     3.95                549         261   \n",
       "2  용산구     21.87     3.61               1582         732   \n",
       "4  광진구     17.06     2.82               1742        1492   \n",
       "3  성동구     16.86     2.79               1602         978   \n",
       "1   중구      9.96     1.65               1152         678   \n",
       "\n",
       "   남녀용 겉옷 및 셔츠 도매업 사업체수  기타주점업 사업체수  일반 교과 학원 사업체수  택시,용달 운송업 사업체수  \\\n",
       "0                   400         537            110             833   \n",
       "2                   108         974            208            1742   \n",
       "4                   178        1266            826            4174   \n",
       "3                   298         570            516            4544   \n",
       "1                 21620         762            114            1060   \n",
       "\n",
       "   한식 음식점,커피 전문점 사업체수  등록업종총합  정류장수  노선수  \n",
       "0                2933    5623   349  106  \n",
       "2                3582    8928   323   67  \n",
       "4                4040   13718   269   41  \n",
       "3                3806   12314   435   58  \n",
       "1                5800   31186   178  103  "
      ]
     },
     "execution_count": 59,
     "metadata": {},
     "output_type": "execute_result"
    }
   ],
   "source": [
    "e.head().sort_values('면적 (km²)',ascending=False)"
   ]
  },
  {
   "cell_type": "code",
   "execution_count": 60,
   "id": "fbd75dba",
   "metadata": {},
   "outputs": [],
   "source": [
    "e=e[['자치구','면적 (km²)','등록업종총합','정류장수','노선수']]"
   ]
  },
  {
   "cell_type": "code",
   "execution_count": 61,
   "id": "6ad9d3b5",
   "metadata": {},
   "outputs": [],
   "source": [
    "f=e[['자치구','면적 (km²)','정류장수']]"
   ]
  },
  {
   "cell_type": "code",
   "execution_count": 62,
   "id": "cee8a7c6",
   "metadata": {},
   "outputs": [
    {
     "data": {
      "text/html": [
       "<div>\n",
       "<style scoped>\n",
       "    .dataframe tbody tr th:only-of-type {\n",
       "        vertical-align: middle;\n",
       "    }\n",
       "\n",
       "    .dataframe tbody tr th {\n",
       "        vertical-align: top;\n",
       "    }\n",
       "\n",
       "    .dataframe thead th {\n",
       "        text-align: right;\n",
       "    }\n",
       "</style>\n",
       "<table border=\"1\" class=\"dataframe\">\n",
       "  <thead>\n",
       "    <tr style=\"text-align: right;\">\n",
       "      <th></th>\n",
       "      <th>자치구</th>\n",
       "      <th>면적 (km²)</th>\n",
       "      <th>정류장수</th>\n",
       "    </tr>\n",
       "  </thead>\n",
       "  <tbody>\n",
       "    <tr>\n",
       "      <th>0</th>\n",
       "      <td>종로구</td>\n",
       "      <td>23.91</td>\n",
       "      <td>349</td>\n",
       "    </tr>\n",
       "    <tr>\n",
       "      <th>1</th>\n",
       "      <td>중구</td>\n",
       "      <td>9.96</td>\n",
       "      <td>178</td>\n",
       "    </tr>\n",
       "    <tr>\n",
       "      <th>2</th>\n",
       "      <td>용산구</td>\n",
       "      <td>21.87</td>\n",
       "      <td>323</td>\n",
       "    </tr>\n",
       "    <tr>\n",
       "      <th>3</th>\n",
       "      <td>성동구</td>\n",
       "      <td>16.86</td>\n",
       "      <td>435</td>\n",
       "    </tr>\n",
       "    <tr>\n",
       "      <th>4</th>\n",
       "      <td>광진구</td>\n",
       "      <td>17.06</td>\n",
       "      <td>269</td>\n",
       "    </tr>\n",
       "  </tbody>\n",
       "</table>\n",
       "</div>"
      ],
      "text/plain": [
       "   자치구  면적 (km²)  정류장수\n",
       "0  종로구     23.91   349\n",
       "1   중구      9.96   178\n",
       "2  용산구     21.87   323\n",
       "3  성동구     16.86   435\n",
       "4  광진구     17.06   269"
      ]
     },
     "execution_count": 62,
     "metadata": {},
     "output_type": "execute_result"
    }
   ],
   "source": [
    "f.head()"
   ]
  },
  {
   "cell_type": "code",
   "execution_count": 63,
   "id": "28ea69f3",
   "metadata": {},
   "outputs": [],
   "source": [
    "f=f.reset_index()"
   ]
  },
  {
   "cell_type": "code",
   "execution_count": 64,
   "id": "da7deb4f",
   "metadata": {},
   "outputs": [],
   "source": [
    "f.to_csv(\"area.csv\", index = False)"
   ]
  },
  {
   "cell_type": "code",
   "execution_count": 65,
   "id": "cb280927",
   "metadata": {},
   "outputs": [],
   "source": [
    "f=f.set_index('자치구')"
   ]
  },
  {
   "cell_type": "code",
   "execution_count": 66,
   "id": "130195da",
   "metadata": {},
   "outputs": [
    {
     "name": "stdout",
     "output_type": "stream",
     "text": [
      "(0.7017665603807792, 9.256651570672462e-05)\n"
     ]
    }
   ],
   "source": [
    "print(stats.pearsonr(f['정류장수'],f['면적 (km²)']))"
   ]
  },
  {
   "cell_type": "code",
   "execution_count": 67,
   "id": "f4f1b5ae",
   "metadata": {},
   "outputs": [],
   "source": [
    "e=e.set_index('자치구')"
   ]
  },
  {
   "cell_type": "code",
   "execution_count": 68,
   "id": "3f3061c2",
   "metadata": {},
   "outputs": [],
   "source": [
    "e['면적대비등록업종']=e['등록업종총합']/e['면적 (km²)']"
   ]
  },
  {
   "cell_type": "code",
   "execution_count": 80,
   "id": "10da3775",
   "metadata": {},
   "outputs": [],
   "source": [
    "e=e.reset_index()"
   ]
  },
  {
   "cell_type": "code",
   "execution_count": 69,
   "id": "894c2a49",
   "metadata": {},
   "outputs": [],
   "source": [
    "e.to_csv(\"area_business.csv\", index = False)"
   ]
  },
  {
   "cell_type": "code",
   "execution_count": 70,
   "id": "ac48b99b",
   "metadata": {},
   "outputs": [],
   "source": [
    "# 시각화, 한글폰트 설정\n",
    "import seaborn as sns\n",
    "import matplotlib.pyplot as plt\n",
    "import scipy.stats as stats\n",
    "\n",
    "plt.rc('font', family='Malgun Gothic')\n",
    "sns.set(font=\"Malgun Gothic\", \n",
    "        rc={\"axes.unicode_minus\":False}, # 마이너스 부호 깨짐 현상 해결\n",
    "        style='darkgrid')       "
   ]
  },
  {
   "cell_type": "code",
   "execution_count": 71,
   "id": "acc2eddf",
   "metadata": {},
   "outputs": [
    {
     "name": "stdout",
     "output_type": "stream",
     "text": [
      "(-0.5738687987461559, 0.00270431052764977)\n",
      "(0.08798386298569065, 0.6757937586086559)\n"
     ]
    }
   ],
   "source": [
    "print(stats.pearsonr(e['정류장수'],e['면적대비등록업종']))\n",
    "print(stats.pearsonr(e['노선수'],e['면적대비등록업종']))"
   ]
  },
  {
   "cell_type": "code",
   "execution_count": 79,
   "id": "d8be4e99",
   "metadata": {},
   "outputs": [
    {
     "data": {
      "image/png": "[encoded data removed]",
      "text/plain": [
       "<Figure size 640x480 with 1 Axes>"
      ]
     },
     "metadata": {},
     "output_type": "display_data"
    }
   ],
   "source": [
    "plt.scatter('면적대비등록업종','정류장수',data=e)\n",
    "for name,x,y in zip(e.index,e['면적대비등록업종'],e['정류장수']): \n",
    "    plt.text(x, y, name,fontsize=8) \n",
    "plt.show()"
   ]
  },
  {
   "cell_type": "code",
   "execution_count": 73,
   "id": "0de53c75",
   "metadata": {},
   "outputs": [
    {
     "data": {
      "text/plain": [
       "자치구\n",
       "중구      0.056849\n",
       "동대문구    0.285745\n",
       "양천구     0.307894\n",
       "광진구     0.334534\n",
       "중랑구     0.361514\n",
       "금천구     0.409247\n",
       "강동구     0.442447\n",
       "도봉구     0.489524\n",
       "구로구     0.574115\n",
       "송파구     0.576143\n",
       "성동구     0.595590\n",
       "동작구     0.612975\n",
       "서대문구    0.644380\n",
       "영등포구    0.682842\n",
       "마포구     0.741601\n",
       "강남구     0.746158\n",
       "강북구     0.746996\n",
       "용산구     0.791220\n",
       "은평구     0.791403\n",
       "관악구     0.856728\n",
       "노원구     0.885225\n",
       "성북구     0.975037\n",
       "강서구     0.977529\n",
       "종로구     1.484010\n",
       "서초구     1.911829\n",
       "dtype: float64"
      ]
     },
     "execution_count": 73,
     "metadata": {},
     "output_type": "execute_result"
    }
   ],
   "source": [
    "(e['정류장수']/e['면적대비등록업종']).sort_values(ascending=True)"
   ]
  },
  {
   "cell_type": "code",
   "execution_count": 74,
   "id": "8eaaae38",
   "metadata": {},
   "outputs": [],
   "source": [
    "from sklearn.linear_model import LinearRegression\n",
    "lr = LinearRegression()"
   ]
  },
  {
   "cell_type": "code",
   "execution_count": 75,
   "id": "4d761158",
   "metadata": {},
   "outputs": [
    {
     "data": {
      "text/plain": [
       "LinearRegression()"
      ]
     },
     "execution_count": 75,
     "metadata": {},
     "output_type": "execute_result"
    }
   ],
   "source": [
    "X=e.면적대비등록업종.values\n",
    "Y=e.정류장수.values\n",
    "\n",
    "X=X.reshape(-1,1)\n",
    "Y=Y.reshape(-1,1)\n",
    "\n",
    "lr.fit(X, Y)"
   ]
  },
  {
   "cell_type": "code",
   "execution_count": 81,
   "id": "48c13fa0",
   "metadata": {},
   "outputs": [
    {
     "data": {
      "image/png": "[encoded data removed]",
      "text/plain": [
       "<Figure size 640x480 with 1 Axes>"
      ]
     },
     "metadata": {},
     "output_type": "display_data"
    }
   ],
   "source": [
    "import matplotlib.pyplot as plt\n",
    "y2 = lr.coef_[0]*X + lr.intercept_\n",
    "plt.scatter(X, Y)\n",
    "for i in range(len(e)): # 행 개수만큼 순회\n",
    "     row = e.iloc[i] # 한 행씩 꺼내기\n",
    "     name = row['자치구'] # 이름이 저장된 열\n",
    "     x = row['면적대비등록업종'] # x좌표가 저장된 열\n",
    "     y = row['정류장수'] # y좌표가 저장된 열\n",
    "\n",
    "     plt.text(x, y, name)\n",
    "plt.plot(X, y2, color='red')\n",
    "plt.title('y = {}*x + {}'.format(lr.coef_[0], lr.intercept_))\n",
    "\n",
    "plt.show()"
   ]
  },
  {
   "cell_type": "code",
   "execution_count": 84,
   "id": "54457b7b",
   "metadata": {
    "scrolled": true
   },
   "outputs": [
    {
     "data": {
      "image/png": "[encoded data removed]",
      "text/plain": [
       "<Figure size 2000x1000 with 1 Axes>"
      ]
     },
     "metadata": {},
     "output_type": "display_data"
    }
   ],
   "source": [
    "e[\"면적대비등록업종예측값오차\"] = e['정류장수']-( lr.coef_[0]* e['면적대비등록업종'] + lr.intercept_)\n",
    "\n",
    "new_df=e.sort_values(\"면적대비등록업종예측값오차\").reset_index(drop=True)\n",
    "\n",
    "plt.figure(figsize=(20,10))\n",
    "plt.title('정류장수 예측값과 오차')\n",
    "plt.bar(new_df['자치구'], new_df[\"면적대비등록업종예측값오차\"])\n",
    "\n",
    "\n",
    "\n",
    "plt.show()"
   ]
  },
  {
   "cell_type": "code",
   "execution_count": 20,
   "id": "f96e43ca",
   "metadata": {},
   "outputs": [
    {
     "data": {
      "text/html": [
       "<table class=\"simpletable\">\n",
       "<caption>OLS Regression Results</caption>\n",
       "<tr>\n",
       "  <th>Dep. Variable:</th>            <td>y</td>        <th>  R-squared:         </th> <td>   0.329</td>\n",
       "</tr>\n",
       "<tr>\n",
       "  <th>Model:</th>                   <td>OLS</td>       <th>  Adj. R-squared:    </th> <td>   0.300</td>\n",
       "</tr>\n",
       "<tr>\n",
       "  <th>Method:</th>             <td>Least Squares</td>  <th>  F-statistic:       </th> <td>   11.29</td>\n",
       "</tr>\n",
       "<tr>\n",
       "  <th>Date:</th>             <td>Wed, 09 Nov 2022</td> <th>  Prob (F-statistic):</th>  <td>0.00270</td>\n",
       "</tr>\n",
       "<tr>\n",
       "  <th>Time:</th>                 <td>12:22:26</td>     <th>  Log-Likelihood:    </th> <td> -146.62</td>\n",
       "</tr>\n",
       "<tr>\n",
       "  <th>No. Observations:</th>      <td>    25</td>      <th>  AIC:               </th> <td>   297.2</td>\n",
       "</tr>\n",
       "<tr>\n",
       "  <th>Df Residuals:</th>          <td>    23</td>      <th>  BIC:               </th> <td>   299.7</td>\n",
       "</tr>\n",
       "<tr>\n",
       "  <th>Df Model:</th>              <td>     1</td>      <th>                     </th>     <td> </td>   \n",
       "</tr>\n",
       "<tr>\n",
       "  <th>Covariance Type:</th>      <td>nonrobust</td>    <th>                     </th>     <td> </td>   \n",
       "</tr>\n",
       "</table>\n",
       "<table class=\"simpletable\">\n",
       "<tr>\n",
       "    <td></td>       <th>coef</th>     <th>std err</th>      <th>t</th>      <th>P>|t|</th>  <th>[0.025</th>    <th>0.975]</th>  \n",
       "</tr>\n",
       "<tr>\n",
       "  <th>const</th> <td>  516.0802</td> <td>   32.514</td> <td>   15.872</td> <td> 0.000</td> <td>  448.819</td> <td>  583.341</td>\n",
       "</tr>\n",
       "<tr>\n",
       "  <th>x1</th>    <td>   -0.1155</td> <td>    0.034</td> <td>   -3.361</td> <td> 0.003</td> <td>   -0.187</td> <td>   -0.044</td>\n",
       "</tr>\n",
       "</table>\n",
       "<table class=\"simpletable\">\n",
       "<tr>\n",
       "  <th>Omnibus:</th>       <td> 0.602</td> <th>  Durbin-Watson:     </th> <td>   1.936</td>\n",
       "</tr>\n",
       "<tr>\n",
       "  <th>Prob(Omnibus):</th> <td> 0.740</td> <th>  Jarque-Bera (JB):  </th> <td>   0.635</td>\n",
       "</tr>\n",
       "<tr>\n",
       "  <th>Skew:</th>          <td>-0.062</td> <th>  Prob(JB):          </th> <td>   0.728</td>\n",
       "</tr>\n",
       "<tr>\n",
       "  <th>Kurtosis:</th>      <td> 2.229</td> <th>  Cond. No.          </th> <td>1.73e+03</td>\n",
       "</tr>\n",
       "</table><br/><br/>Notes:<br/>[1] Standard Errors assume that the covariance matrix of the errors is correctly specified.<br/>[2] The condition number is large, 1.73e+03. This might indicate that there are<br/>strong multicollinearity or other numerical problems."
      ],
      "text/plain": [
       "<class 'statsmodels.iolib.summary.Summary'>\n",
       "\"\"\"\n",
       "                            OLS Regression Results                            \n",
       "==============================================================================\n",
       "Dep. Variable:                      y   R-squared:                       0.329\n",
       "Model:                            OLS   Adj. R-squared:                  0.300\n",
       "Method:                 Least Squares   F-statistic:                     11.29\n",
       "Date:                Wed, 09 Nov 2022   Prob (F-statistic):            0.00270\n",
       "Time:                        12:22:26   Log-Likelihood:                -146.62\n",
       "No. Observations:                  25   AIC:                             297.2\n",
       "Df Residuals:                      23   BIC:                             299.7\n",
       "Df Model:                           1                                         \n",
       "Covariance Type:            nonrobust                                         \n",
       "==============================================================================\n",
       "                 coef    std err          t      P>|t|      [0.025      0.975]\n",
       "------------------------------------------------------------------------------\n",
       "const        516.0802     32.514     15.872      0.000     448.819     583.341\n",
       "x1            -0.1155      0.034     -3.361      0.003      -0.187      -0.044\n",
       "==============================================================================\n",
       "Omnibus:                        0.602   Durbin-Watson:                   1.936\n",
       "Prob(Omnibus):                  0.740   Jarque-Bera (JB):                0.635\n",
       "Skew:                          -0.062   Prob(JB):                        0.728\n",
       "Kurtosis:                       2.229   Cond. No.                     1.73e+03\n",
       "==============================================================================\n",
       "\n",
       "Notes:\n",
       "[1] Standard Errors assume that the covariance matrix of the errors is correctly specified.\n",
       "[2] The condition number is large, 1.73e+03. This might indicate that there are\n",
       "strong multicollinearity or other numerical problems.\n",
       "\"\"\""
      ]
     },
     "execution_count": 20,
     "metadata": {},
     "output_type": "execute_result"
    }
   ],
   "source": [
    "from sklearn.linear_model import LinearRegression\n",
    "lr = LinearRegression()\n",
    "\n",
    "x= e['면적대비등록업종'].values\n",
    "y= e['정류장수'].values\n",
    "\n",
    "x = x.reshape(-1,1)\n",
    "y = y.reshape(-1,1)\n",
    "\n",
    "lr.fit(x, y)\n",
    "\n",
    "import statsmodels.api as sm\n",
    "results = sm.OLS(y, sm.add_constant(x)).fit()\n",
    "\n",
    "results.summary()"
   ]
  },
  {
   "cell_type": "code",
   "execution_count": null,
   "id": "14e11563",
   "metadata": {},
   "outputs": [],
   "source": []
  }
 ],
 "metadata": {
  "kernelspec": {
   "display_name": "Python 3 (ipykernel)",
   "language": "python",
   "name": "python3"
  },
  "language_info": {
   "codemirror_mode": {
    "name": "ipython",
    "version": 3
   },
   "file_extension": ".py",
   "mimetype": "text/x-python",
   "name": "python",
   "nbconvert_exporter": "python",
   "pygments_lexer": "ipython3",
   "version": "3.9.12"
  }
 },
 "nbformat": 4,
 "nbformat_minor": 5
}
